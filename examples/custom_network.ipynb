{
 "cells": [
  {
   "cell_type": "markdown",
   "metadata": {},
   "source": [
    "# Custom network\n",
    "Demonstrates creating a custom network for use with the KFAC optimizer."
   ]
  },
  {
   "cell_type": "code",
   "execution_count": null,
   "metadata": {},
   "outputs": [],
   "source": [
    "import jax\n",
    "import jax.numpy as jnp\n",
    "import equinox as eqx\n",
    "from kfac_pinn import KFAC\n",
    "\n",
    "class Net(eqx.Module):\n",
    "    linear: eqx.nn.Linear\n",
    "    def __init__(self, key):\n",
    "        self.linear = eqx.nn.Linear(1, 1, key=key)\n",
    "    def __call__(self, x):\n",
    "        return jax.nn.tanh(self.linear(x))\n",
    "\n",
    "key = jax.random.PRNGKey(0)\n",
    "model = Net(key)\n",
    "opt = KFAC(lr=1e-3)\n",
    "state = opt.init(model, jnp.ones((10, 1)))\n"
   ]
  }
 ],
 "metadata": {
  "kernelspec": {
   "display_name": "Python 3",
   "language": "python",
   "name": "python3"
  },
  "language_info": {
   "name": "python",
   "pygments_lexer": "ipython3"
  }
 },
 "nbformat": 4,
 "nbformat_minor": 2
}
