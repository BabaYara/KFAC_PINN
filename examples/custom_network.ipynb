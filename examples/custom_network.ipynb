{
 "cells": [
  {
   "cell_type": "markdown",
   "metadata": {},
   "source": [
    "# Custom network example"
   ]
  },
  {
   "cell_type": "markdown",
   "metadata": {},
   "source": [
    "Defining your own network and training it with the optimiser."
   ]
  },
  {
   "cell_type": "code",
   "execution_count": null,
   "metadata": {},
   "outputs": [],
    "source": [
     "import sys, os\n",
     "sys.path.append(os.path.abspath('..'))\n",
     "import jax\n",
     "import jax.numpy as jnp\n",
     "import equinox as eqx\n",
     "from kfac_pinn import KFAC, training\n",
    "\n",
    "class Net(eqx.Module):\n",
    "    linear: eqx.nn.Linear\n",
    "    def __init__(self, key):\n",
    "        self.linear = eqx.nn.Linear(1, 1, key=key)\n",
    "    def __call__(self, x):\n",
    "        return jax.nn.tanh(self.linear(x))\n",
    "\n",
    "key = jax.random.PRNGKey(0)\n",
    "model = Net(key)\n",
    "\n",
    "def loss_fn(m, x):\n",
    "    return jnp.mean((m(x) - jnp.sin(x)) ** 2)\n",
    "\n",
    "data = [jax.random.uniform(key, (16, 1)) for _ in range(50)]\n",
    "opt = KFAC(lr=1e-2)\n",
    "model, state = training.train(model, opt, loss_fn, data, steps=50)\n"
   ]
  }
 ],
 "metadata": {
  "kernelspec": {
   "display_name": "Python 3",
   "language": "python",
   "name": "python3"
  },
  "language_info": {
   "name": "python",
   "pygments_lexer": "ipython3"
  }
 },
 "nbformat": 4,
 "nbformat_minor": 2
}
