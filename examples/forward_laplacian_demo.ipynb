{
 "cells": [
  {
   "cell_type": "markdown",
   "metadata": {},
   "source": [
    "# Forward Laplacian Demo\n",
    "This notebook demonstrates the new `forward_laplacian` utility in the `kfac_pinn` package."
   ]
  },
  {
   "cell_type": "code",
   "execution_count": null,
   "metadata": {},
   "outputs": [],
   "source": [
    "import jax, jax.numpy as jnp",
    "from kfac_pinn.pdes import forward_laplacian",
    "from kfac_pinn.pinn import make_mlp",
    "\n",
    "model = make_mlp()",
    "x = jnp.array([[0.1, 0.2]])",
    "print(forward_laplacian(model, x))"
   ]
  }
 ],
 "metadata": {
  "kernelspec": {
   "display_name": "Python 3",
   "language": "python",
   "name": "python3"
  }
 },
 "nbformat": 4,
 "nbformat_minor": 5
}
