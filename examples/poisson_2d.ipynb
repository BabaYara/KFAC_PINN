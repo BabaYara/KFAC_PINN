{
 "cells": [
  {
   "cell_type": "markdown",
   "metadata": {},
   "source": [
    "# 2D Poisson equation demo",
    "\n",
    "Solve $\\Delta u(x,y) = -2\\pi^2 \sin(\\pi x) \sin(\\pi y)$ with zero Dirichlet boundary conditions using the `kfac_pinn` package."
   ]
  },
  {
   "cell_type": "code",
   "execution_count": null,
   "metadata": {},
   "outputs": [],
    "source": [
     "import sys, os\n",
     "sys.path.append(os.path.abspath('..'))\n",
     "import jax\n",
     "import jax.numpy as jnp\n",
     "from kfac_pinn import KFAC, pinn, pdes, training\n",
    "\n",
    "def rhs(x):\n",
    "    return -2 * (jnp.pi ** 2) * jnp.sin(jnp.pi * x[:,0]) * jnp.sin(jnp.pi * x[:,1])\n",
    "\n",
    "def exact(x):\n",
    "    return jnp.sin(jnp.pi * x[:,0]) * jnp.sin(jnp.pi * x[:,1])\n",
    "\n",
    "key = jax.random.PRNGKey(0)\n",
    "model = pinn.make_mlp(width=64, depth=3, key=key)\n",
    "opt = KFAC(lr=1e-2)\n",
    "\n",
    "def loss_fn(m, batch):\n",
    "    interior = pinn.interior_loss(m, batch, rhs)\n",
    "    bc_pts = jnp.concatenate([\n",
    "        pdes.sample_boundary(key, jnp.array([0.0,0.0]), jnp.array([1.0,1.0]), 50)\n",
    "    ], axis=0)\n",
    "    bc = pinn.boundary_loss(m, bc_pts, exact)\n",
    "    return interior + bc\n",
    "\n",
    "data = [pdes.sample_interior(key, jnp.array([0.0,0.0]), jnp.array([1.0,1.0]), 128) for _ in range(100)]\n",
    "model, state = training.train(model, opt, loss_fn, data, steps=100)\n"
   ]
  },
  {
   "cell_type": "code",
   "execution_count": null,
   "metadata": {},
   "outputs": [],
   "source": [
    "# evaluate solution at a grid of points\n",
    "grid_x, grid_y = jnp.meshgrid(jnp.linspace(0,1,10), jnp.linspace(0,1,10))\n",
    "pts = jnp.stack([grid_x.ravel(), grid_y.ravel()], axis=-1)\n",
    "pred = model(pts).reshape(grid_x.shape)\n",
    "pred\n"
   ]
  }
 ],
 "metadata": {
  "kernelspec": {
   "display_name": "Python 3",
   "language": "python",
   "name": "python3"
  },
  "language_info": {
   "name": "python",
   "pygments_lexer": "ipython3"
  }
 },
 "nbformat": 4,
 "nbformat_minor": 2
}
