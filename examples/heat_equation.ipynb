{
 "cells": [
  {
   "cell_type": "markdown",
   "metadata": {},
   "source": [
    "# 1D Heat equation demo",
    "\n",
    "Solve a simple time-dependent PDE using the `kfac_pinn` package."
   ]
  },
  {
   "cell_type": "code",
   "execution_count": null,
   "metadata": {},
   "outputs": [],
   "source": [
    "import sys, os",
    "sys.path.append(os.path.abspath('..'))",
    "import jax",
    "import jax.numpy as jnp",
    "from kfac_pinn import KFAC, pinn, pdes, training",
    "",
    "def rhs(x):",
    "    return jnp.zeros_like(x)",
    "",
    "key = jax.random.PRNGKey(0)",
    "model = pinn.make_mlp(in_dim=1, key=key)",
    "opt = KFAC(lr=1e-2)",
    "",
    "def loss_fn(m, x):",
    "    return pinn.interior_loss(m, x, rhs)",
    "",
    "data = [pdes.sample_interior(key, jnp.array([0.0]), jnp.array([1.0]), 64) for _ in range(100)]",
    "model, state = training.train(model, opt, loss_fn, data, steps=100)"
   ]
  }
 ],
 "metadata": {
  "kernelspec": {
   "display_name": "Python 3",
   "language": "python",
   "name": "python3"
  },
  "language_info": {
   "name": "python"
  }
 },
 "nbformat": 4,
 "nbformat_minor": 2
}
