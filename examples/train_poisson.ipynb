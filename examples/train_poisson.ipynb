{
 "cells": [
  {
   "cell_type": "markdown",
   "metadata": {},
   "source": [
    "# Poisson equation"
   ]
  },
  {
   "cell_type": "code",
   "execution_count": null,
   "metadata": {},
   "outputs": [],
   "source": [
    "import jax\n",
    "import jax.numpy as jnp\n",
    "from kfac_pinn import KFAC, pinn, training\n",
    "\n",
    "def rhs(x):\n",
    "    return (jnp.pi ** 2) * jnp.sin(jnp.pi * x)\n",
    "\n",
    "def exact(x):\n",
    "    return jnp.sin(jnp.pi * x)\n",
    "\n",
    "key = jax.random.PRNGKey(0)\n",
    "model = pinn.make_mlp(key=key)\n",
    "opt = KFAC(lr=1e-2)\n",
    "\n",
    "def loss_fn(m, x):\n",
    "    return pinn.interior_loss(m, x, rhs) + pinn.boundary_loss(m, jnp.array([[0.0],[1.0]]), exact)\n",
    "\n",
    "data = [jax.random.uniform(key, (64,1)) for _ in range(200)]\n",
    "model, state = training.train(model, opt, loss_fn, data, steps=200)\n"
   ]
  }
 ],
 "metadata": {
  "kernelspec": {
   "display_name": "Python 3",
   "language": "python",
   "name": "python3"
  },
  "language_info": {
   "name": "python",
   "pygments_lexer": "ipython3"
  }
 },
 "nbformat": 4,
 "nbformat_minor": 2
}
