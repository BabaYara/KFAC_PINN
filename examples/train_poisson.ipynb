{
 "cells": [
  {
   "cell_type": "markdown",
   "metadata": {},
   "source": [
    "# Poisson equation"
   ]
  },
  {
   "cell_type": "code",
   "execution_count": null,
   "metadata": {},
   "outputs": [],
    "source": [
     "import sys, os\n",
     "sys.path.append(os.path.abspath('..'))\n",
     "import jax\n",
     "import jax.numpy as jnp\n",
     "from kfac_pinn import KFAC, pinn, pdes, training\n",
    "\n",
    "def rhs(x):\n",
    "    return (jnp.pi ** 2) * jnp.sin(jnp.pi * x)\n",
    "\n",
    "def exact(x):\n",
    "    return jnp.sin(jnp.pi * x)\n",
    "\n",
    "key = jax.random.PRNGKey(0)\n",
    "model = pinn.make_mlp(in_dim=1, key=key)\n",
    "opt = KFAC(lr=1e-2)\n",
    "\n",
    "def loss_fn(m, x):\n",
    "    return pinn.interior_loss(m, x, rhs) + pinn.boundary_loss(m, jnp.array([[0.0],[1.0]]), exact)\n",
    "\n",
    "data = [pdes.sample_interior(key, jnp.array([0.0]), jnp.array([1.0]), 64) for _ in range(200)]\n",
    "model, state = training.train(model, opt, loss_fn, data, steps=200)\n"
   ]
  }
 ],
 "metadata": {
  "kernelspec": {
   "display_name": "Python 3",
   "language": "python",
   "name": "python3"
  },
  "language_info": {
   "name": "python",
   "pygments_lexer": "ipython3"
  }
 },
 "nbformat": 4,
 "nbformat_minor": 2
}
