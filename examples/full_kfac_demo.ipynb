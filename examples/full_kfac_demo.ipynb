{
 "cells": [
  {
   "cell_type": "markdown",
   "metadata": {},
   "source": [
    "# Full KFAC demo\n",
    "\n",
    "Train a 1D Poisson PINN using the full KFAC optimiser."
   ]
  },
  {
   "cell_type": "code",
   "execution_count": null,
   "metadata": {},
   "outputs": [
    {
     "ename": "ImportError",
     "evalue": "cannot import name 'PINNKFAC' from 'kfac_pinn' (c:\\Users\\fababa\\Dropbox\\AssetPricing\\Git\\KFAC_PINN\\kfac_pinn\\__init__.py)",
     "output_type": "error",
     "traceback": [
      "\u001b[1;31m---------------------------------------------------------------------------\u001b[0m",
      "\u001b[1;31mImportError\u001b[0m                               Traceback (most recent call last)",
      "Cell \u001b[1;32mIn[5], line 5\u001b[0m\n\u001b[0;32m      3\u001b[0m \u001b[38;5;28;01mimport\u001b[39;00m \u001b[38;5;21;01mjax\u001b[39;00m\n\u001b[0;32m      4\u001b[0m \u001b[38;5;28;01mimport\u001b[39;00m \u001b[38;5;21;01mjax\u001b[39;00m\u001b[38;5;21;01m.\u001b[39;00m\u001b[38;5;21;01mnumpy\u001b[39;00m \u001b[38;5;28;01mas\u001b[39;00m \u001b[38;5;21;01mjnp\u001b[39;00m\n\u001b[1;32m----> 5\u001b[0m \u001b[38;5;28;01mfrom\u001b[39;00m \u001b[38;5;21;01mkfac_pinn\u001b[39;00m \u001b[38;5;28;01mimport\u001b[39;00m PINNKFAC, pinn, pdes, training\n\u001b[0;32m      7\u001b[0m key \u001b[38;5;241m=\u001b[39m jax\u001b[38;5;241m.\u001b[39mrandom\u001b[38;5;241m.\u001b[39mPRNGKey(\u001b[38;5;241m0\u001b[39m)\n\u001b[0;32m      8\u001b[0m model \u001b[38;5;241m=\u001b[39m pinn\u001b[38;5;241m.\u001b[39mmake_mlp(in_dim\u001b[38;5;241m=\u001b[39m\u001b[38;5;241m1\u001b[39m, key\u001b[38;5;241m=\u001b[39mkey)\n",
      "\u001b[1;31mImportError\u001b[0m: cannot import name 'PINNKFAC' from 'kfac_pinn' (c:\\Users\\fababa\\Dropbox\\AssetPricing\\Git\\KFAC_PINN\\kfac_pinn\\__init__.py)"
     ]
    }
   ],
   "source": [
    "# Install the local kfac_pinn package\n",
    "import sys\n",
    "import os\n",
    "\n",
    "# Add the parent directory to the Python path\n",
    "parent_dir = os.path.abspath(os.path.join(os.getcwd(), '..'))\n",
    "if parent_dir not in sys.path:\n",
    "    sys.path.insert(0, parent_dir)\n",
    "    print(f\"Added {parent_dir} to Python path\")\n",
    "else:\n",
    "    print(f\"{parent_dir} is already in Python path\")\n",
    "\n",
    "import sys, os\n",
    "sys.path.append(os.path.abspath('..'))\n",
    "import jax\n",
    "import jax.numpy as jnp\n",
    "from kfac_pinn import PINNKFAC, pinn, pdes, training\n",
    "\n",
    "key = jax.random.PRNGKey(0)\n",
    "model = pinn.make_mlp(in_dim=1, key=key)\n",
    "opt = PINNKFAC(lr=1e-2)\n",
    "\n",
    "def rhs(x):\n",
    "    return (jnp.pi ** 2) * jnp.sin(jnp.pi * x)\n",
    "\n",
    "def exact(x):\n",
    "    return jnp.sin(jnp.pi * x)\n",
    "\n",
    "def loss_fn(m, batch):\n",
    "    interior, boundary = batch\n",
    "    loss_i = pinn.interior_loss(m, interior, rhs)\n",
    "    loss_b = pinn.boundary_loss(m, boundary, exact)\n",
    "    return loss_i + loss_b\n",
    "\n",
    "domain = jnp.array([[0.0], [1.0]])\n",
    "key, k1, k2 = jax.random.split(key, 3)\n",
    "interior = pdes.sample_interior(k1, domain[0], domain[1], 64)\n",
    "boundary = pdes.sample_boundary(k2, domain[0], domain[1], 64)\n",
    "batch = (interior, boundary)\n",
    "state = opt.init(model)\n",
    "model, state = opt.step(model, loss_fn, batch, state)\n",
    "print('Loss:', loss_fn(model, batch))\n"
   ]
  }
 ],
 "metadata": {
  "kernelspec": {
   "display_name": "Python 3",
   "language": "python",
   "name": "python3"
  },
  "language_info": {
   "name": "python"
  }
 },
 "nbformat": 4,
 "nbformat_minor": 5
}
