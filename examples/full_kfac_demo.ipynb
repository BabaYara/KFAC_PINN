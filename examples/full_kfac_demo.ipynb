{
 "cells": [
  {
   "cell_type": "markdown",
   "metadata": {},
   "source": [
    "# Full KFAC demo\n",
    "\n",
    "Train a 1D Poisson PINN using the full KFAC optimiser."
   ]
  },
  {
   "cell_type": "code",
   "execution_count": null,
   "metadata": {},
   "outputs": [],
   "source": [
    "import sys, os\n",
    "sys.path.append(os.path.abspath('..'))\n",
    "import jax\n",
    "import jax.numpy as jnp\n",
    "from kfac_pinn import PINNKFAC, pinn, pdes, training\n",
    "\n",
    "key = jax.random.PRNGKey(0)\n",
    "model = pinn.make_mlp(in_dim=1, key=key)\n",
    "opt = PINNKFAC(lr=1e-2)\n",
    "\n",
    "def rhs(x):\n",
    "    return (jnp.pi ** 2) * jnp.sin(jnp.pi * x)\n",
    "\n",
    "def exact(x):\n",
    "    return jnp.sin(jnp.pi * x)\n",
    "\n",
    "def loss_fn(m, batch):\n",
    "    interior, boundary = batch\n",
    "    loss_i = pinn.interior_loss(m, interior, rhs)\n",
    "    loss_b = pinn.boundary_loss(m, boundary, exact)\n",
    "    return loss_i + loss_b\n",
    "\n",
    "domain = jnp.array([[0.0], [1.0]])\n",
    "key, k1, k2 = jax.random.split(key, 3)\n",
    "interior = pdes.sample_interior(k1, domain[0], domain[1], 64)\n",
    "boundary = pdes.sample_boundary(k2, domain[0], domain[1], 64)\n",
    "batch = (interior, boundary)\n",
    "state = opt.init(model)\n",
    "model, state = opt.step(model, loss_fn, batch, state)\n",
    "print('Loss:', loss_fn(model, batch))\n"
   ]
  }
 ],
 "metadata": {
  "kernelspec": {
   "display_name": "Python 3",
   "language": "python",
   "name": "python3"
  },
  "language_info": {
   "name": "python"
  }
 },
 "nbformat": 4,
 "nbformat_minor": 5
}
