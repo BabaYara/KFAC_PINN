{
 "cells": [
  {
   "cell_type": "markdown",
   "metadata": {},
   "source": [
    "# Basic PINN demo\n",
    "This notebook shows how to train a simple Physics-Informed Neural Network using `kfac_pinn`."
   ]
  },
  {
   "cell_type": "code",
   "execution_count": null,
   "metadata": {},
   "outputs": [],
   "source": [
    "import jax.numpy as jnp\n",
    "from jax import random\n",
    "import equinox as eqx\n",
    "from kfac_pinn import KFAC, pinn\n",
    "\n",
    "key = random.PRNGKey(0)\n",
    "model = pinn.make_mlp(key=key)\n",
    "opt = KFAC(lr=1e-3)\n",
    "state = opt.init(model, jnp.ones((10, 1)))\n"
   ]
  }
 ],
 "metadata": {
  "kernelspec": {
   "display_name": "Python 3",
   "language": "python",
   "name": "python3"
  },
  "language_info": {
   "name": "python",
   "pygments_lexer": "ipython3"
  }
 },
 "nbformat": 4,
 "nbformat_minor": 2
}
