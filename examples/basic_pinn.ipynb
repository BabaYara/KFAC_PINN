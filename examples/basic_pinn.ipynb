{
 "cells": [
  {
   "cell_type": "markdown",
   "metadata": {},
   "source": [
    "# Basic PINN demo\n",
    "This notebook shows how to train a simple Physics-Informed Neural Network using `kfac_pinn`."
   ]
  },
  {
   "cell_type": "markdown",
   "metadata": {},
   "source": [
    "We solve the 1D Poisson equation $u''(x) = -\pi^2\sin(\pi x)$ with zero boundary conditions."
   ]
  },
  {
   "cell_type": "code",
   "execution_count": null,
   "metadata": {},
   "outputs": [],
   "source": [
    "import jax\n",
    "import jax.numpy as jnp\n",
    "from kfac_pinn import KFAC, pinn, training\n",
    "\n",
    "key = jax.random.PRNGKey(0)\n",
    "model = pinn.make_mlp(key=key)\n",
    "\n",
    "def rhs(x):\n",
    "    return (jnp.pi ** 2) * jnp.sin(jnp.pi * x)\n",
    "\n",
    "def exact(x):\n",
    "    return jnp.sin(jnp.pi * x)\n",
    "\n",
    "def loss_fn(m, x):\n",
    "    interior = pinn.interior_loss(m, x, rhs)\n",
    "    bc = pinn.boundary_loss(m, jnp.array([[0.0], [1.0]]), exact)\n",
    "    return interior + bc\n",
    "\n",
    "data = [jax.random.uniform(key, (128, 1)) for _ in range(100)]\n",
    "model, state = training.train(model, KFAC(lr=1e-2), loss_fn, data, steps=100)\n"
   ]
  },
  {
   "cell_type": "code",
   "execution_count": null,
   "metadata": {},
   "outputs": [],
   "source": [
    "model(jnp.linspace(0, 1, 5).reshape(-1, 1))\n"
   ]
  }
 ],
 "metadata": {
  "kernelspec": {
   "display_name": "Python 3",
   "language": "python",
   "name": "python3"
  },
  "language_info": {
   "name": "python",
   "pygments_lexer": "ipython3"
  }
 },
 "nbformat": 4,
 "nbformat_minor": 2
}
