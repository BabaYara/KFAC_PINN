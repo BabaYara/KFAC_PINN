{
 "cells": [
  {
   "cell_type": "markdown",
   "metadata": {},
   "source": [
    "# PINNKFAC Poisson Demo",
    "\n",
    "Train a 1D Poisson PINN using the PINNKFAC optimiser."
   ]
  },
  {
   "cell_type": "code",
   "execution_count": null,
   "metadata": {},
   "outputs": [],
   "source": [
    "import jax, jax.numpy as jnp, equinox as eqx",
    "from kfac_pinn import PINNKFAC, pinn, pdes",
    "",
    "key = jax.random.PRNGKey(0)",
    "model = pinn.make_mlp(key=key)",
    "opt = PINNKFAC(lr=1e-2)",
    "",
    "def rhs(x):\n    return (jnp.pi**2) * jnp.sin(jnp.pi * x)",
    "def bc(x):\n    return jnp.zeros_like(x)",
    "",
    "key_i, key_b = jax.random.split(key)",
    "interior = pdes.sample_interior(key_i, jnp.array([0.0]), jnp.array([1.0]), 64)",
    "boundary = jnp.array([[0.0], [1.0]])",
    "state = opt.init(model)"
   ]
  },
  {
   "cell_type": "code",
   "execution_count": null,
   "metadata": {},
   "outputs": [],
   "source": [
    "for _ in range(100):",
    "    model, state = opt.step(model, rhs, bc, interior, boundary, state)"
   ]
  },
  {
   "cell_type": "code",
   "execution_count": null,
   "metadata": {},
   "outputs": [],
   "source": [
    "res = pinn.pinn_residual(model, interior, rhs)",
    "print('Final interior residual', jnp.mean(res**2))"
   ]
  }
 ],
 "metadata": {
  "kernelspec": {
   "display_name": "Python 3",
   "language": "python",
   "name": "python3"
  },
  "language_info": {
   "name": "python",
   "version": "3.10"
  }
 },
 "nbformat": 4,
 "nbformat_minor": 4
}
